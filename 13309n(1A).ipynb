{
 "cells": [
  {
   "cell_type": "code",
   "execution_count": 1,
   "id": "b7cfac38-f4e0-462b-ad47-b68511b4a80c",
   "metadata": {},
   "outputs": [
    {
     "data": {
      "text/plain": [
       "20"
      ]
     },
     "execution_count": 1,
     "metadata": {},
     "output_type": "execute_result"
    }
   ],
   "source": [
    "import numpy as np\n",
    "a= np.array([\n",
    "    [100,200,150,300], #product1\n",
    "    [50,60,40,80],     #product2\n",
    "    [300,400,350,500], #product3\n",
    "    [200,250,220,270], #product4\n",
    "    [80,90,70,100]     #product5\n",
    "])\n",
    "a.size"
   ]
  },
  {
   "cell_type": "code",
   "execution_count": 2,
   "id": "a8427f51-3332-47ad-9063-bbd36e3e3d28",
   "metadata": {},
   "outputs": [
    {
     "data": {
      "text/plain": [
       "dtype('int64')"
      ]
     },
     "execution_count": 2,
     "metadata": {},
     "output_type": "execute_result"
    }
   ],
   "source": [
    "a= np.array([\n",
    "    [100,200,150,300], #product1\n",
    "    [50,60,40,80],     #product2\n",
    "    [300,400,350,500], #product3\n",
    "    [200,250,220,270], #product4\n",
    "    [80,90,70,100]     #product5\n",
    "])\n",
    "a.dtype"
   ]
  },
  {
   "cell_type": "code",
   "execution_count": 3,
   "id": "33ff4920-a3f7-444b-bd81-1b1a7bcf89c7",
   "metadata": {},
   "outputs": [
    {
     "data": {
      "text/plain": [
       "8"
      ]
     },
     "execution_count": 3,
     "metadata": {},
     "output_type": "execute_result"
    }
   ],
   "source": [
    "a= np.array([\n",
    "    [100,200,150,300], #product1\n",
    "    [50,60,40,80],     #product2\n",
    "    [300,400,350,500], #product3\n",
    "    [200,250,220,270], #product4\n",
    "    [80,90,70,100]     #product5\n",
    "])\n",
    "a.itemsize"
   ]
  },
  {
   "cell_type": "code",
   "execution_count": 4,
   "id": "31c6ba3d-2c51-4e12-a06e-1aaea5f97820",
   "metadata": {},
   "outputs": [
    {
     "data": {
      "text/plain": [
       "np.int64(3810)"
      ]
     },
     "execution_count": 4,
     "metadata": {},
     "output_type": "execute_result"
    }
   ],
   "source": [
    "a= np.array([\n",
    "    [100,200,150,300], #product1\n",
    "    [50,60,40,80],     #product2\n",
    "    [300,400,350,500], #product3\n",
    "    [200,250,220,270], #product4\n",
    "    [80,90,70,100]     #product5\n",
    "])\n",
    "a.sum()"
   ]
  },
  {
   "cell_type": "code",
   "execution_count": 5,
   "id": "37c4a7d4-6e0c-4da4-8641-713f6f508a9f",
   "metadata": {},
   "outputs": [
    {
     "name": "stdout",
     "output_type": "stream",
     "text": [
      "[[100 200 150 300]\n",
      " [ 50  60  40  80]\n",
      " [290 390 340 490]\n",
      " [200 250 220 270]\n",
      " [ 80  90  70 100]]\n"
     ]
    }
   ],
   "source": [
    "a= np.array([\n",
    "    [100,200,150,300], #product1\n",
    "    [50,60,40,80],     #product2\n",
    "    [300,400,350,500], #product3\n",
    "    [200,250,220,270], #product4\n",
    "    [80,90,70,100]     #product5\n",
    "])\n",
    "a[2]-=10\n",
    "print(a)"
   ]
  },
  {
   "cell_type": "code",
   "execution_count": 6,
   "id": "ced86bf6-8a68-4862-a74f-0f250f5feb38",
   "metadata": {},
   "outputs": [
    {
     "name": "stdout",
     "output_type": "stream",
     "text": [
      "[[120 220 170 320]\n",
      " [ 70  80  60 100]\n",
      " [320 420 370 520]\n",
      " [220 270 240 290]\n",
      " [100 110  90 120]]\n"
     ]
    }
   ],
   "source": [
    "a= np.array([\n",
    "    [100,200,150,300], #product1\n",
    "    [50,60,40,80],     #product2\n",
    "    [300,400,350,500], #product3\n",
    "    [200,250,220,270], #product4\n",
    "    [80,90,70,100]     #product5\n",
    "])\n",
    "a+=20\n",
    "print(a)"
   ]
  },
  {
   "cell_type": "code",
   "execution_count": 7,
   "id": "d8326044-1539-4cda-afce-2619835936e5",
   "metadata": {},
   "outputs": [
    {
     "name": "stdout",
     "output_type": "stream",
     "text": [
      "[[100 400 150 300]\n",
      " [ 50 120  40  80]\n",
      " [300 800 350 500]\n",
      " [200 500 220 270]\n",
      " [ 80 180  70 100]]\n"
     ]
    }
   ],
   "source": [
    "a= np.array([\n",
    "    [100,200,150,300], #product1\n",
    "    [50,60,40,80],     #product2\n",
    "    [300,400,350,500], #product3\n",
    "    [200,250,220,270], #product4\n",
    "    [80,90,70,100]     #product5\n",
    "])\n",
    "a[0:6,1]*=2\n",
    "print(a)"
   ]
  },
  {
   "cell_type": "code",
   "execution_count": 8,
   "id": "6e6cdd16-dc34-4b9c-a573-ebc048cb4be5",
   "metadata": {},
   "outputs": [
    {
     "data": {
      "text/plain": [
       "array([ 730, 1000,  830, 1250])"
      ]
     },
     "execution_count": 8,
     "metadata": {},
     "output_type": "execute_result"
    }
   ],
   "source": [
    "a= np.array([\n",
    "    [100,200,150,300], #product1\n",
    "    [50,60,40,80],     #product2\n",
    "    [300,400,350,500], #product3\n",
    "    [200,250,220,270], #product4\n",
    "    [80,90,70,100]     #product5\n",
    "])\n",
    "np.sum(a,axis=0)"
   ]
  },
  {
   "cell_type": "code",
   "execution_count": 9,
   "id": "560618fe-8e00-490f-a9ef-a2637d0e599e",
   "metadata": {},
   "outputs": [
    {
     "data": {
      "text/plain": [
       "array([ 750,  230, 1550,  940,  340])"
      ]
     },
     "execution_count": 9,
     "metadata": {},
     "output_type": "execute_result"
    }
   ],
   "source": [
    "a= np.array([\n",
    "    [100,200,150,300], #product1\n",
    "    [50,60,40,80],     #product2\n",
    "    [300,400,350,500], #product3\n",
    "    [200,250,220,270], #product4\n",
    "    [80,90,70,100]     #product5\n",
    "])\n",
    "np.sum(a,axis=1)"
   ]
  },
  {
   "cell_type": "code",
   "execution_count": 10,
   "id": "4a7d49fa-3148-4d5b-96af-703b564fc327",
   "metadata": {},
   "outputs": [
    {
     "data": {
      "text/plain": [
       "array([100,  40, 300, 200,  70])"
      ]
     },
     "execution_count": 10,
     "metadata": {},
     "output_type": "execute_result"
    }
   ],
   "source": [
    "a= np.array([\n",
    "    [100,200,150,300], #product1\n",
    "    [50,60,40,80],     #product2\n",
    "    [300,400,350,500], #product3\n",
    "    [200,250,220,270], #product4\n",
    "    [80,90,70,100]     #product5\n",
    "])\n",
    "np.min(a,axis=1)"
   ]
  },
  {
   "cell_type": "code",
   "execution_count": 11,
   "id": "567ead13-7c02-4011-8caf-45620a05f432",
   "metadata": {},
   "outputs": [
    {
     "data": {
      "text/plain": [
       "array([300, 400, 350, 500])"
      ]
     },
     "execution_count": 11,
     "metadata": {},
     "output_type": "execute_result"
    }
   ],
   "source": [
    "a= np.array([\n",
    "    [100,200,150,300], #product1\n",
    "    [50,60,40,80],     #product2\n",
    "    [300,400,350,500], #product3\n",
    "    [200,250,220,270], #product4\n",
    "    [80,90,70,100]     #product5\n",
    "])\n",
    "np.max(a,axis=0)"
   ]
  },
  {
   "cell_type": "code",
   "execution_count": 12,
   "id": "b3ea7230-a026-43af-92dd-8561a0e7543f",
   "metadata": {},
   "outputs": [
    {
     "data": {
      "text/plain": [
       "array([187.5,  57.5, 387.5, 235. ,  85. ])"
      ]
     },
     "execution_count": 12,
     "metadata": {},
     "output_type": "execute_result"
    }
   ],
   "source": [
    "a= np.array([\n",
    "    [100,200,150,300], #product1\n",
    "    [50,60,40,80],     #product2\n",
    "    [300,400,350,500], #product3\n",
    "    [200,250,220,270], #product4\n",
    "    [80,90,70,100]     #product5\n",
    "])\n",
    "np.mean(a,axis=1)"
   ]
  },
  {
   "cell_type": "code",
   "execution_count": 13,
   "id": "9033e913-b0f9-43be-8528-8666bf47b88d",
   "metadata": {},
   "outputs": [
    {
     "data": {
      "text/plain": [
       "array([50, 60, 40, 80])"
      ]
     },
     "execution_count": 13,
     "metadata": {},
     "output_type": "execute_result"
    }
   ],
   "source": [
    "a= np.array([\n",
    "    [100,200,150,300], #product1\n",
    "    [50,60,40,80],     #product2\n",
    "    [300,400,350,500], #product3\n",
    "    [200,250,220,270], #product4\n",
    "    [80,90,70,100]     #product5\n",
    "])\n",
    "a[1]"
   ]
  },
  {
   "cell_type": "code",
   "execution_count": 14,
   "id": "761d1b5b-8e77-4951-82ae-487ad7e5fc0c",
   "metadata": {},
   "outputs": [
    {
     "data": {
      "text/plain": [
       "array([300,  80, 500, 270, 100])"
      ]
     },
     "execution_count": 14,
     "metadata": {},
     "output_type": "execute_result"
    }
   ],
   "source": [
    "a= np.array([\n",
    "    [100,200,150,300], #product1\n",
    "    [50,60,40,80],     #product2\n",
    "    [300,400,350,500], #product3\n",
    "    [200,250,220,270], #product4\n",
    "    [80,90,70,100]     #product5\n",
    "])\n",
    "a[:,3]"
   ]
  },
  {
   "cell_type": "code",
   "execution_count": 15,
   "id": "0f4a8841-dd6e-44d8-9159-80edb59d64b7",
   "metadata": {},
   "outputs": [
    {
     "data": {
      "text/plain": [
       "array([[100, 200],\n",
       "       [ 50,  60],\n",
       "       [300, 400]])"
      ]
     },
     "execution_count": 15,
     "metadata": {},
     "output_type": "execute_result"
    }
   ],
   "source": [
    "a= np.array([\n",
    "    [100,200,150,300], #product1\n",
    "    [50,60,40,80],     #product2\n",
    "    [300,400,350,500], #product3\n",
    "    [200,250,220,270], #product4\n",
    "    [80,90,70,100]     #product5\n",
    "])\n",
    "a[0:3,0:2]"
   ]
  },
  {
   "cell_type": "code",
   "execution_count": 16,
   "id": "d5285d7e-4b20-4b1f-a4b5-a462e5c67c30",
   "metadata": {},
   "outputs": [
    {
     "data": {
      "text/plain": [
       "array([[220, 270],\n",
       "       [ 70, 100]])"
      ]
     },
     "execution_count": 16,
     "metadata": {},
     "output_type": "execute_result"
    }
   ],
   "source": [
    "a= np.array([\n",
    "    [100,200,150,300], #product1\n",
    "    [50,60,40,80],     #product2\n",
    "    [300,400,350,500], #product3\n",
    "    [200,250,220,270], #product4\n",
    "    [80,90,70,100]     #product5\n",
    "])\n",
    "a[3:6,2:4]"
   ]
  },
  {
   "cell_type": "code",
   "execution_count": 18,
   "id": "95d892fd-d688-4765-99d2-f325a5d5c597",
   "metadata": {},
   "outputs": [
    {
     "data": {
      "text/plain": [
       "array([[100]])"
      ]
     },
     "execution_count": 18,
     "metadata": {},
     "output_type": "execute_result"
    }
   ],
   "source": [
    "a= np.array([\n",
    "    [100,200,150,300], #product1\n",
    "    [50,60,40,80],     #product2\n",
    "    [300,400,350,500], #product3\n",
    "    [200,250,220,270], #product4\n",
    "    [80,90,70,100]     #product5\n",
    "])\n",
    "a[4:6,3:4]"
   ]
  },
  {
   "cell_type": "code",
   "execution_count": 19,
   "id": "603cb220-7be7-40c7-819b-d5d79753ceca",
   "metadata": {},
   "outputs": [
    {
     "name": "stdout",
     "output_type": "stream",
     "text": [
      "[[100 200 150 300]\n",
      " [ 50  60  40 100]\n",
      " [300 400 350 500]\n",
      " [200 250 220 270]\n",
      " [ 80  90  70 100]]\n"
     ]
    }
   ],
   "source": [
    "a= np.array([\n",
    "    [100,200,150,300], #product1\n",
    "    [50,60,40,80],     #product2\n",
    "    [300,400,350,500], #product3\n",
    "    [200,250,220,270], #product4\n",
    "    [80,90,70,100]     #product5\n",
    "])\n",
    "a[1,3]=100\n",
    "print(a)"
   ]
  },
  {
   "cell_type": "code",
   "execution_count": 20,
   "id": "cbd042e0-9f53-4bce-af43-985432a7b8e5",
   "metadata": {},
   "outputs": [
    {
     "data": {
      "text/plain": [
       "np.int64(220)"
      ]
     },
     "execution_count": 20,
     "metadata": {},
     "output_type": "execute_result"
    }
   ],
   "source": [
    "a= np.array([\n",
    "    [100,200,150,300], #product1\n",
    "    [50,60,40,80],     #product2\n",
    "    [300,400,350,500], #product3\n",
    "    [200,250,220,270], #product4\n",
    "    [80,90,70,100]     #product5\n",
    "])\n",
    "a[0:0]\n",
    "a[3,2]"
   ]
  },
  {
   "cell_type": "code",
   "execution_count": 21,
   "id": "06724224-8e6b-4d16-bb52-496be40bc502",
   "metadata": {},
   "outputs": [
    {
     "data": {
      "text/plain": [
       "array([100, 220])"
      ]
     },
     "execution_count": 21,
     "metadata": {},
     "output_type": "execute_result"
    }
   ],
   "source": [
    "a= np.array([\n",
    "    [100,200,150,300], #product1\n",
    "    [50,60,40,80],     #product2\n",
    "    [300,400,350,500], #product3\n",
    "    [200,250,220,270], #product4\n",
    "    [80,90,70,100]     #product5\n",
    "])\n",
    "stock_level=a[[0,3],[0,2]]\n",
    "stock_level"
   ]
  }
 ],
 "metadata": {
  "kernelspec": {
   "display_name": "Python 3 (ipykernel)",
   "language": "python",
   "name": "python3"
  },
  "language_info": {
   "codemirror_mode": {
    "name": "ipython",
    "version": 3
   },
   "file_extension": ".py",
   "mimetype": "text/x-python",
   "name": "python",
   "nbconvert_exporter": "python",
   "pygments_lexer": "ipython3",
   "version": "3.12.3"
  }
 },
 "nbformat": 4,
 "nbformat_minor": 5
}
