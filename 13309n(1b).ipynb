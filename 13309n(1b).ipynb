{
 "cells": [
  {
   "cell_type": "code",
   "execution_count": 1,
   "id": "ce6dcc7e-9bb4-42c2-a7af-bdd8e8e19cf3",
   "metadata": {},
   "outputs": [],
   "source": [
    "import pandas as pd\n",
    "data = {\n",
    "    \"Location1\": [100, 50, 300, 200, 80],\n",
    "    \"Location2\": [200, 60, 400, 250, 90],\n",
    "    \"Location3\": [150, 40, 350, 220, 70],\n",
    "    \"Location4\": [300, 80, 500, 270, 100]\n",
    "}\n",
    "inventory = pd.DataFrame(data, index=[\"Product1\", \"Product2\", \"Product3\", \"Product4\", \"Product5\"])"
   ]
  },
  {
   "cell_type": "code",
   "execution_count": 2,
   "id": "07aba1ff-eccd-4884-b3db-714ad333d816",
   "metadata": {},
   "outputs": [
    {
     "data": {
      "text/html": [
       "<div>\n",
       "<style scoped>\n",
       "    .dataframe tbody tr th:only-of-type {\n",
       "        vertical-align: middle;\n",
       "    }\n",
       "\n",
       "    .dataframe tbody tr th {\n",
       "        vertical-align: top;\n",
       "    }\n",
       "\n",
       "    .dataframe thead th {\n",
       "        text-align: right;\n",
       "    }\n",
       "</style>\n",
       "<table border=\"1\" class=\"dataframe\">\n",
       "  <thead>\n",
       "    <tr style=\"text-align: right;\">\n",
       "      <th></th>\n",
       "      <th>Location1</th>\n",
       "      <th>Location2</th>\n",
       "      <th>Location3</th>\n",
       "      <th>Location4</th>\n",
       "    </tr>\n",
       "  </thead>\n",
       "  <tbody>\n",
       "    <tr>\n",
       "      <th>Product1</th>\n",
       "      <td>100</td>\n",
       "      <td>200</td>\n",
       "      <td>150</td>\n",
       "      <td>300</td>\n",
       "    </tr>\n",
       "    <tr>\n",
       "      <th>Product2</th>\n",
       "      <td>50</td>\n",
       "      <td>60</td>\n",
       "      <td>40</td>\n",
       "      <td>80</td>\n",
       "    </tr>\n",
       "  </tbody>\n",
       "</table>\n",
       "</div>"
      ],
      "text/plain": [
       "          Location1  Location2  Location3  Location4\n",
       "Product1        100        200        150        300\n",
       "Product2         50         60         40         80"
      ]
     },
     "execution_count": 2,
     "metadata": {},
     "output_type": "execute_result"
    }
   ],
   "source": [
    "inventory.head(2)"
   ]
  },
  {
   "cell_type": "code",
   "execution_count": 3,
   "id": "452553bb-26c2-4d3f-9db4-d179ff8e2de3",
   "metadata": {},
   "outputs": [
    {
     "data": {
      "text/plain": [
       "(5, 4)"
      ]
     },
     "execution_count": 3,
     "metadata": {},
     "output_type": "execute_result"
    }
   ],
   "source": [
    "inventory.shape"
   ]
  },
  {
   "cell_type": "code",
   "execution_count": 4,
   "id": "6a358643-8962-4e35-88a7-efbec6dc30cb",
   "metadata": {},
   "outputs": [
    {
     "data": {
      "text/plain": [
       "(Index(['Location1', 'Location2', 'Location3', 'Location4'], dtype='object'),\n",
       " Index(['Product1', 'Product2', 'Product3', 'Product4', 'Product5'], dtype='object'))"
      ]
     },
     "execution_count": 4,
     "metadata": {},
     "output_type": "execute_result"
    }
   ],
   "source": [
    "inventory.columns, inventory.index"
   ]
  },
  {
   "cell_type": "code",
   "execution_count": 5,
   "id": "304bd737-8ef0-4bab-abe5-b4d2ffbcc78f",
   "metadata": {},
   "outputs": [
    {
     "data": {
      "text/plain": [
       "Location1    int64\n",
       "Location2    int64\n",
       "Location3    int64\n",
       "Location4    int64\n",
       "dtype: object"
      ]
     },
     "execution_count": 5,
     "metadata": {},
     "output_type": "execute_result"
    }
   ],
   "source": [
    "inventory.dtypes"
   ]
  },
  {
   "cell_type": "code",
   "execution_count": 6,
   "id": "b9150c2c-11c1-4589-9641-9f0613eded05",
   "metadata": {},
   "outputs": [
    {
     "data": {
      "text/plain": [
       "Location1    0\n",
       "Location2    0\n",
       "Location3    0\n",
       "Location4    0\n",
       "dtype: int64"
      ]
     },
     "execution_count": 6,
     "metadata": {},
     "output_type": "execute_result"
    }
   ],
   "source": [
    "inventory.isnull().sum()"
   ]
  },
  {
   "cell_type": "code",
   "execution_count": 7,
   "id": "2668a3c5-d9b5-441b-9b89-2ccbe398d17a",
   "metadata": {},
   "outputs": [
    {
     "data": {
      "text/plain": [
       "Location1    300\n",
       "Location2    400\n",
       "Location3    350\n",
       "Location4    500\n",
       "Name: Product3, dtype: int64"
      ]
     },
     "execution_count": 7,
     "metadata": {},
     "output_type": "execute_result"
    }
   ],
   "source": [
    "inventory.loc[\"Product3\"]"
   ]
  },
  {
   "cell_type": "code",
   "execution_count": 8,
   "id": "1d7d88cc-6c27-4b5b-91fd-63d55375ef0a",
   "metadata": {},
   "outputs": [
    {
     "data": {
      "text/plain": [
       "Product1    200\n",
       "Product2     60\n",
       "Product3    400\n",
       "Product4    250\n",
       "Product5     90\n",
       "Name: Location2, dtype: int64"
      ]
     },
     "execution_count": 8,
     "metadata": {},
     "output_type": "execute_result"
    }
   ],
   "source": [
    "inventory[\"Location2\"]"
   ]
  },
  {
   "cell_type": "code",
   "execution_count": 9,
   "id": "319f3b0a-9e25-48ae-96a3-e0ceab65a902",
   "metadata": {},
   "outputs": [
    {
     "data": {
      "text/html": [
       "<div>\n",
       "<style scoped>\n",
       "    .dataframe tbody tr th:only-of-type {\n",
       "        vertical-align: middle;\n",
       "    }\n",
       "\n",
       "    .dataframe tbody tr th {\n",
       "        vertical-align: top;\n",
       "    }\n",
       "\n",
       "    .dataframe thead th {\n",
       "        text-align: right;\n",
       "    }\n",
       "</style>\n",
       "<table border=\"1\" class=\"dataframe\">\n",
       "  <thead>\n",
       "    <tr style=\"text-align: right;\">\n",
       "      <th></th>\n",
       "      <th>Location1</th>\n",
       "      <th>Location3</th>\n",
       "    </tr>\n",
       "  </thead>\n",
       "  <tbody>\n",
       "    <tr>\n",
       "      <th>Product1</th>\n",
       "      <td>100</td>\n",
       "      <td>150</td>\n",
       "    </tr>\n",
       "    <tr>\n",
       "      <th>Product4</th>\n",
       "      <td>200</td>\n",
       "      <td>220</td>\n",
       "    </tr>\n",
       "  </tbody>\n",
       "</table>\n",
       "</div>"
      ],
      "text/plain": [
       "          Location1  Location3\n",
       "Product1        100        150\n",
       "Product4        200        220"
      ]
     },
     "execution_count": 9,
     "metadata": {},
     "output_type": "execute_result"
    }
   ],
   "source": [
    "inventory.loc[[\"Product1\", \"Product4\"], [\"Location1\", \"Location3\"]]"
   ]
  },
  {
   "cell_type": "code",
   "execution_count": 10,
   "id": "1dded19f-db64-403b-8ca2-7316178418a9",
   "metadata": {},
   "outputs": [
    {
     "data": {
      "text/html": [
       "<div>\n",
       "<style scoped>\n",
       "    .dataframe tbody tr th:only-of-type {\n",
       "        vertical-align: middle;\n",
       "    }\n",
       "\n",
       "    .dataframe tbody tr th {\n",
       "        vertical-align: top;\n",
       "    }\n",
       "\n",
       "    .dataframe thead th {\n",
       "        text-align: right;\n",
       "    }\n",
       "</style>\n",
       "<table border=\"1\" class=\"dataframe\">\n",
       "  <thead>\n",
       "    <tr style=\"text-align: right;\">\n",
       "      <th></th>\n",
       "      <th>Location1</th>\n",
       "      <th>Location2</th>\n",
       "    </tr>\n",
       "  </thead>\n",
       "  <tbody>\n",
       "    <tr>\n",
       "      <th>Product1</th>\n",
       "      <td>100</td>\n",
       "      <td>200</td>\n",
       "    </tr>\n",
       "    <tr>\n",
       "      <th>Product2</th>\n",
       "      <td>50</td>\n",
       "      <td>60</td>\n",
       "    </tr>\n",
       "    <tr>\n",
       "      <th>Product3</th>\n",
       "      <td>300</td>\n",
       "      <td>400</td>\n",
       "    </tr>\n",
       "  </tbody>\n",
       "</table>\n",
       "</div>"
      ],
      "text/plain": [
       "          Location1  Location2\n",
       "Product1        100        200\n",
       "Product2         50         60\n",
       "Product3        300        400"
      ]
     },
     "execution_count": 10,
     "metadata": {},
     "output_type": "execute_result"
    }
   ],
   "source": [
    "inventory.iloc[:3, :2]"
   ]
  },
  {
   "cell_type": "code",
   "execution_count": 11,
   "id": "7089b1cc-9b43-41ba-abc5-fcda6bb51f18",
   "metadata": {},
   "outputs": [
    {
     "data": {
      "text/plain": [
       "np.int64(70)"
      ]
     },
     "execution_count": 11,
     "metadata": {},
     "output_type": "execute_result"
    }
   ],
   "source": [
    "inventory.at[\"Product5\", \"Location3\"]"
   ]
  }
 ],
 "metadata": {
  "kernelspec": {
   "display_name": "Python 3 (ipykernel)",
   "language": "python",
   "name": "python3"
  },
  "language_info": {
   "codemirror_mode": {
    "name": "ipython",
    "version": 3
   },
   "file_extension": ".py",
   "mimetype": "text/x-python",
   "name": "python",
   "nbconvert_exporter": "python",
   "pygments_lexer": "ipython3",
   "version": "3.12.3"
  }
 },
 "nbformat": 4,
 "nbformat_minor": 5
}
